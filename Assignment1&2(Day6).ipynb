{
  "nbformat": 4,
  "nbformat_minor": 0,
  "metadata": {
    "colab": {
      "name": "Untitled",
      "provenance": [],
      "authorship_tag": "ABX9TyP46CE89AK197v0MbcLckAa",
      "include_colab_link": true
    },
    "kernelspec": {
      "name": "python3",
      "display_name": "Python 3"
    }
  },
  "cells": [
    {
      "cell_type": "markdown",
      "metadata": {
        "id": "view-in-github",
        "colab_type": "text"
      },
      "source": [
        "<a href=\"https://colab.research.google.com/github/pathansayama/LetsUpgrade-Python-B7-Sayama/blob/master/Assignment1%262(Day6).ipynb\" target=\"_parent\"><img src=\"https://colab.research.google.com/assets/colab-badge.svg\" alt=\"Open In Colab\"/></a>"
      ]
    },
    {
      "cell_type": "markdown",
      "metadata": {
        "id": "qWOL6cyYt7sj",
        "colab_type": "text"
      },
      "source": [
        "Assignment 1 (Day 6)"
      ]
    },
    {
      "cell_type": "code",
      "metadata": {
        "id": "hJq_wzTetnGY",
        "colab_type": "code",
        "colab": {
          "base_uri": "https://localhost:8080/",
          "height": 203
        },
        "outputId": "b630e398-60dc-483f-c000-38b97fb52f28"
      },
      "source": [
        "class bank_ac: \n",
        "    def __init__(self):\n",
        "        self.owner=\"Sam\" \n",
        "        self.balance=0\n",
        "        print(\"Hello!!! Welcome \",self.owner)\n",
        "  \n",
        "    def deposit(self): \n",
        "        print(\" \",self.owner)\n",
        "        amount=float(input(\"Enter amount to be Deposited: \")) \n",
        "        self.balance += amount \n",
        "        print(\"\\n Amount Deposited: $\",amount) \n",
        "  \n",
        "    def withdraw(self): \n",
        "        print(\" \",self.owner)\n",
        "        amount = float(input(\"Enter amount to be Withdrawn: \")) \n",
        "        if self.balance >= amount: \n",
        "            self.balance -= amount \n",
        "            print(\"\\n You Withdrew: $\", amount) \n",
        "        else: \n",
        "            print(\"\\n Balance is insufficient!  \") \n",
        "  \n",
        "    def dis(self): \n",
        "        print(\" \",self.owner, \"Your Available Balance= $\",self.balance) \n",
        "  \n",
        "s = bank_ac() \n",
        "s.deposit() \n",
        "s.withdraw() \n",
        "s.dis() "
      ],
      "execution_count": 8,
      "outputs": [
        {
          "output_type": "stream",
          "text": [
            "Hello!!! Welcome  Sam\n",
            "  Sam\n",
            "Enter amount to be Deposited: 20\n",
            "\n",
            " Amount Deposited: $ 20.0\n",
            "  Sam\n",
            "Enter amount to be Withdrawn: 19\n",
            "\n",
            " You Withdrew: $ 19.0\n",
            "  Sam Your Available Balance= $ 1.0\n"
          ],
          "name": "stdout"
        }
      ]
    },
    {
      "cell_type": "markdown",
      "metadata": {
        "id": "_ZyoNL5wFlmB",
        "colab_type": "text"
      },
      "source": [
        "Assignment 2 (Day 6)"
      ]
    },
    {
      "cell_type": "code",
      "metadata": {
        "id": "OksQKWekFgvK",
        "colab_type": "code",
        "colab": {
          "base_uri": "https://localhost:8080/",
          "height": 51
        },
        "outputId": "e7608d6e-12e7-49c3-e028-a1385efed6a6"
      },
      "source": [
        "class cone:\n",
        "    def __init__(self):\n",
        "        self.r = 0\n",
        "        self.h = 0\n",
        "        self.s = 0\n",
        "    \n",
        "    def volume(self, r , h): \n",
        "        return (1 / 3) * 3.14 * r * r * h \n",
        "\n",
        "    def surfacearea(self, r , s): \n",
        "        return 3.14 * r * s + 3.14 * r * r \n",
        "\n",
        "c = cone()\n",
        "\n",
        "print( \"Volume Of Cone : \", c.volume(5, 10) ) \n",
        "print( \"Surface Area Of Cone : \", c.surfacearea(4, 12) ) "
      ],
      "execution_count": 12,
      "outputs": [
        {
          "output_type": "stream",
          "text": [
            "Volume Of Cone :  261.6666666666667\n",
            "Surface Area Of Cone :  200.96\n"
          ],
          "name": "stdout"
        }
      ]
    }
  ]
}