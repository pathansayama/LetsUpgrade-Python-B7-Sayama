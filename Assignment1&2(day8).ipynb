{
  "nbformat": 4,
  "nbformat_minor": 0,
  "metadata": {
    "colab": {
      "name": "Untitled",
      "provenance": [],
      "authorship_tag": "ABX9TyNPPvn22L/uOGq0LMdK6HoC",
      "include_colab_link": true
    },
    "kernelspec": {
      "name": "python3",
      "display_name": "Python 3"
    }
  },
  "cells": [
    {
      "cell_type": "markdown",
      "metadata": {
        "id": "view-in-github",
        "colab_type": "text"
      },
      "source": [
        "<a href=\"https://colab.research.google.com/github/pathansayama/LetsUpgrade-Python-B7-Sayama/blob/master/Assignment1%262(day8).ipynb\" target=\"_parent\"><img src=\"https://colab.research.google.com/assets/colab-badge.svg\" alt=\"Open In Colab\"/></a>"
      ]
    },
    {
      "cell_type": "markdown",
      "metadata": {
        "id": "qWOL6cyYt7sj",
        "colab_type": "text"
      },
      "source": [
        "Assignment 1 (Day 8)"
      ]
    },
    {
      "cell_type": "code",
      "metadata": {
        "id": "hJq_wzTetnGY",
        "colab_type": "code",
        "colab": {
          "base_uri": "https://localhost:8080/",
          "height": 363
        },
        "outputId": "06752a93-87a7-420d-a035-ef0f48fca8d0"
      },
      "source": [
        "def fib_outer(function):\n",
        "    def fib(n):\n",
        "        if n < 2:\n",
        "            return n\n",
        "        else:\n",
        "            return fib(n - 1) + fib(n - 2)\n",
        "    return fib\n",
        "\n",
        "\n",
        "for i in range(20):\n",
        "    print(fib(i), end='\\n')\n"
      ],
      "execution_count": null,
      "outputs": [
        {
          "output_type": "stream",
          "text": [
            "0\n",
            "1\n",
            "1\n",
            "2\n",
            "3\n",
            "5\n",
            "8\n",
            "13\n",
            "21\n",
            "34\n",
            "55\n",
            "89\n",
            "144\n",
            "233\n",
            "377\n",
            "610\n",
            "987\n",
            "1597\n",
            "2584\n",
            "4181\n"
          ],
          "name": "stdout"
        }
      ]
    },
    {
      "cell_type": "markdown",
      "metadata": {
        "id": "_ZyoNL5wFlmB",
        "colab_type": "text"
      },
      "source": [
        "Assignment 2 (Day 8)"
      ]
    },
    {
      "cell_type": "code",
      "metadata": {
        "id": "OksQKWekFgvK",
        "colab_type": "code",
        "colab": {
          "base_uri": "https://localhost:8080/",
          "height": 34
        },
        "outputId": "8512bfaf-6607-4cda-84cb-e81d12f826ff"
      },
      "source": [
        "try:\n",
        "   fob = open(\"test.txt\", \"r\")\n",
        "   fob.write(\"It's my test file to verify exception handling in Python!!\")\n",
        "except IOError:\n",
        "   print (\"Error: can\\'t find the file or read data\")\n",
        "else:\n",
        "   print (\"Write operation is performed successfully on the file\")"
      ],
      "execution_count": 20,
      "outputs": [
        {
          "output_type": "stream",
          "text": [
            "Error: can't find the file or read data\n"
          ],
          "name": "stdout"
        }
      ]
    }
  ]
}