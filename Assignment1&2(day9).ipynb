{
  "nbformat": 4,
  "nbformat_minor": 0,
  "metadata": {
    "colab": {
      "name": "Untitled",
      "provenance": [],
      "authorship_tag": "ABX9TyM9wr7x4I7por7bZjastq+O",
      "include_colab_link": true
    },
    "kernelspec": {
      "name": "python3",
      "display_name": "Python 3"
    }
  },
  "cells": [
    {
      "cell_type": "markdown",
      "metadata": {
        "id": "view-in-github",
        "colab_type": "text"
      },
      "source": [
        "<a href=\"https://colab.research.google.com/github/pathansayama/LetsUpgrade-Python-B7-Sayama/blob/master/Assignment1%262(day9).ipynb\" target=\"_parent\"><img src=\"https://colab.research.google.com/assets/colab-badge.svg\" alt=\"Open In Colab\"/></a>"
      ]
    },
    {
      "cell_type": "markdown",
      "metadata": {
        "id": "qWOL6cyYt7sj",
        "colab_type": "text"
      },
      "source": [
        "Assignment 1 (Day 9)"
      ]
    },
    {
      "cell_type": "code",
      "metadata": {
        "id": "wJgCp2FAUVGd",
        "colab_type": "code",
        "colab": {
          "base_uri": "https://localhost:8080/",
          "height": 362
        },
        "outputId": "48d0b349-deb1-4817-9651-b609652af075"
      },
      "source": [
        "def Primen(number):\n",
        "    for element in range(number):\n",
        "        if number % element == 0:\n",
        "            return False\n",
        "\n",
        "    return True\n",
        "\n",
        "def nextnum(number):\n",
        "    index = number\n",
        "    while True:\n",
        "        index += 1\n",
        "        if Primen(index):\n",
        "            print(index)\n",
        "\n",
        "import unittest\n",
        "class PrimeTest(unittest.TestCase):\n",
        "\n",
        "    def test_prime(self):\n",
        "        self.assertTrue(Primen(5))\n",
        "\n",
        "if __name__ == '__main__':\n",
        "    unittest.main()"
      ],
      "execution_count": 45,
      "outputs": [
        {
          "output_type": "stream",
          "text": [
            "E\n",
            "======================================================================\n",
            "ERROR: /root/ (unittest.loader._FailedTest)\n",
            "----------------------------------------------------------------------\n",
            "AttributeError: module '__main__' has no attribute '/root/'\n",
            "\n",
            "----------------------------------------------------------------------\n",
            "Ran 1 test in 0.003s\n",
            "\n",
            "FAILED (errors=1)\n"
          ],
          "name": "stderr"
        },
        {
          "output_type": "error",
          "ename": "SystemExit",
          "evalue": "ignored",
          "traceback": [
            "An exception has occurred, use %tb to see the full traceback.\n",
            "\u001b[0;31mSystemExit\u001b[0m\u001b[0;31m:\u001b[0m True\n"
          ]
        },
        {
          "output_type": "stream",
          "text": [
            "/usr/local/lib/python3.6/dist-packages/IPython/core/interactiveshell.py:2890: UserWarning: To exit: use 'exit', 'quit', or Ctrl-D.\n",
            "  warn(\"To exit: use 'exit', 'quit', or Ctrl-D.\", stacklevel=1)\n"
          ],
          "name": "stderr"
        }
      ]
    },
    {
      "cell_type": "markdown",
      "metadata": {
        "id": "_ZyoNL5wFlmB",
        "colab_type": "text"
      },
      "source": [
        "Assignment 2 (Day 9)"
      ]
    },
    {
      "cell_type": "code",
      "metadata": {
        "id": "EfVfMcCIQxoY",
        "colab_type": "code",
        "colab": {
          "base_uri": "https://localhost:8080/",
          "height": 242
        },
        "outputId": "2c1bc29b-d77f-4d6b-8f47-a950525bfb1a"
      },
      "source": [
        "\n",
        "def armstrong(limit):\n",
        "  l = 1\n",
        "  u = 1000\n",
        "\n",
        "  for num in range(l, u + 1):\n",
        "\n",
        "      o = len(str(num))\n",
        "      sum = 0\n",
        "\n",
        "      temp = num\n",
        "      while temp > 0:\n",
        "          digit = temp % 10\n",
        "          sum += digit ** o\n",
        "          temp //= 10\n",
        "\n",
        "      if num == sum:\n",
        "          yield (num)\n",
        "\n",
        "x = armstrong(1000)\n",
        "for i in armstrong(1000):\n",
        "  print(i)"
      ],
      "execution_count": null,
      "outputs": [
        {
          "output_type": "stream",
          "text": [
            "1\n",
            "2\n",
            "3\n",
            "4\n",
            "5\n",
            "6\n",
            "7\n",
            "8\n",
            "9\n",
            "153\n",
            "370\n",
            "371\n",
            "407\n"
          ],
          "name": "stdout"
        }
      ]
    }
  ]
}