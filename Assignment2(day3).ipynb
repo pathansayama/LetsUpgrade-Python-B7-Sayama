{
  "nbformat": 4,
  "nbformat_minor": 0,
  "metadata": {
    "colab": {
      "name": "Untitled",
      "provenance": [],
      "authorship_tag": "ABX9TyNDM/rBR/BNzV/n+95J4Tbx",
      "include_colab_link": true
    },
    "kernelspec": {
      "name": "python3",
      "display_name": "Python 3"
    }
  },
  "cells": [
    {
      "cell_type": "markdown",
      "metadata": {
        "id": "view-in-github",
        "colab_type": "text"
      },
      "source": [
        "<a href=\"https://colab.research.google.com/github/pathansayama/LetsUpgrade-Python-B7-Sayama/blob/master/Assignment2(day3).ipynb\" target=\"_parent\"><img src=\"https://colab.research.google.com/assets/colab-badge.svg\" alt=\"Open In Colab\"/></a>"
      ]
    },
    {
      "cell_type": "markdown",
      "metadata": {
        "id": "qWOL6cyYt7sj",
        "colab_type": "text"
      },
      "source": [
        "Assignment 1 (Day 3)"
      ]
    },
    {
      "cell_type": "code",
      "metadata": {
        "id": "hJq_wzTetnGY",
        "colab_type": "code",
        "colab": {
          "base_uri": "https://localhost:8080/",
          "height": 814
        },
        "outputId": "8124b159-bdf9-4c3f-9c73-f346e9aa4ffc"
      },
      "source": [
        "l = 1\n",
        "u = 200\n",
        "  \n",
        "for num in range(l,u + 1):  \n",
        "   if num > 1:  \n",
        "       for i in range(2,num):  \n",
        "           if (num % i) == 0:  \n",
        "               break  \n",
        "       else:  \n",
        "           print(num)  "
      ],
      "execution_count": 3,
      "outputs": [
        {
          "output_type": "stream",
          "text": [
            "2\n",
            "3\n",
            "5\n",
            "7\n",
            "11\n",
            "13\n",
            "17\n",
            "19\n",
            "23\n",
            "29\n",
            "31\n",
            "37\n",
            "41\n",
            "43\n",
            "47\n",
            "53\n",
            "59\n",
            "61\n",
            "67\n",
            "71\n",
            "73\n",
            "79\n",
            "83\n",
            "89\n",
            "97\n",
            "101\n",
            "103\n",
            "107\n",
            "109\n",
            "113\n",
            "127\n",
            "131\n",
            "137\n",
            "139\n",
            "149\n",
            "151\n",
            "157\n",
            "163\n",
            "167\n",
            "173\n",
            "179\n",
            "181\n",
            "191\n",
            "193\n",
            "197\n",
            "199\n"
          ],
          "name": "stdout"
        }
      ]
    },
    {
      "cell_type": "markdown",
      "metadata": {
        "id": "_W_xJCyzjlv-",
        "colab_type": "text"
      },
      "source": [
        "Assignment 2 (Day 3)"
      ]
    },
    {
      "cell_type": "code",
      "metadata": {
        "id": "qkzfxvHQj_oO",
        "colab_type": "code",
        "colab": {
          "base_uri": "https://localhost:8080/",
          "height": 69
        },
        "outputId": "32723c69-bf35-4d71-a669-aa806606a509"
      },
      "source": [
        "altitude = int(input(\"Enter The Current Altitude Of the Plane = \"))\n",
        "print(altitude)\n",
        "\n",
        "if altitude <= 1000 :\n",
        "  print(altitude,\" is Safe to Land\")\n",
        "\n",
        "elif altitude > 1000 and altitude < 5000 :\n",
        "  print(altitude,\" is not valid. Bring down to 1000\")\n",
        "\n",
        "elif altitude > 5000 :\n",
        "  print(altitude,\" is not safe to Land, Turn around!\")\n",
        "\n",
        "else :\n",
        "  print(\"You are alreary Landed\")"
      ],
      "execution_count": 6,
      "outputs": [
        {
          "output_type": "stream",
          "text": [
            "Enter The Current Altitude Of tne Plane = 7000\n",
            "7000\n",
            "7000  is not safe to Land, Turn around!\n"
          ],
          "name": "stdout"
        }
      ]
    }
  ]
}