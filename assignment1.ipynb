{
  "nbformat": 4,
  "nbformat_minor": 0,
  "metadata": {
    "colab": {
      "name": "Untitled0.ipynb",
      "provenance": [],
      "authorship_tag": "ABX9TyOP9gxNA2XnY3tF6pyasgbB",
      "include_colab_link": true
    },
    "kernelspec": {
      "name": "python3",
      "display_name": "Python 3"
    }
  },
  "cells": [
    {
      "cell_type": "markdown",
      "metadata": {
        "id": "view-in-github",
        "colab_type": "text"
      },
      "source": [
        "<a href=\"https://colab.research.google.com/github/pathansayama/LetsUpgrade-Python-B7-Sayama/blob/master/assignment1.ipynb\" target=\"_parent\"><img src=\"https://colab.research.google.com/assets/colab-badge.svg\" alt=\"Open In Colab\"/></a>"
      ]
    },
    {
      "cell_type": "markdown",
      "metadata": {
        "id": "R1cr430mCbHP",
        "colab_type": "text"
      },
      "source": [
        "*Python Essentials* (2 September 2020)\n",
        "1. Assignment 1\n",
        "\n"
      ]
    },
    {
      "cell_type": "markdown",
      "metadata": {
        "id": "_bzpydMID1FI",
        "colab_type": "text"
      },
      "source": [
        "**Lists**"
      ]
    },
    {
      "cell_type": "code",
      "metadata": {
        "id": "lCZY8M8NDF7I",
        "colab_type": "code",
        "colab": {
          "base_uri": "https://localhost:8080/",
          "height": 34
        },
        "outputId": "6bf44979-93e8-4fdb-a2f4-890b8ae00949"
      },
      "source": [
        "list1=[\"10\",\"20.30\",\"Sayama\",\"[78,91,116]\"]\n",
        "print(list1)"
      ],
      "execution_count": 1,
      "outputs": [
        {
          "output_type": "stream",
          "text": [
            "['10', '20.30', 'Sayama', '[78,91,116]']\n"
          ],
          "name": "stdout"
        }
      ]
    },
    {
      "cell_type": "markdown",
      "metadata": {
        "id": "il28h9gwtm9H",
        "colab_type": "text"
      },
      "source": [
        "**List in-built Functions**\n",
        "\n",
        "\n",
        "1. append()\t Adds an element at the end of the list\n",
        "2. clear() \tRemoves all the elements from the list\n",
        "3. copy()\t Returns a copy of the list\n",
        "4. count()\tReturns the number of elements with the specified value\n",
        "5. extend()\t Add the elements of a list (or any iterable), to the end of the current list\n",
        "6. index()\tReturns the index of the first element with the specified value\n",
        "7. insert()\t Adds an element at the specified position\n",
        "8. pop()\tRemoves the element at the specified position\n",
        "9. remove()\t Removes the item with the specified value\n",
        "10. reverse()\t Reverses the order of the list\n",
        "11. sort()\tSorts the list\n",
        "\n"
      ]
    },
    {
      "cell_type": "code",
      "metadata": {
        "id": "lE07PtLqsSjD",
        "colab_type": "code",
        "colab": {
          "base_uri": "https://localhost:8080/",
          "height": 121
        },
        "outputId": "8294d795-49b3-4873-c0bf-4555a49760a9"
      },
      "source": [
        "list1=[\"10\",\"20.30\",\"Sayama\",\"[78,91,116]\"]\n",
        "print(list1)\n",
        "print(list1.sort())\n",
        "print(list1.reverse())\n",
        "print(list1.insert(4,\"Pathan\"))\n",
        "print(list1.append(2020))\n",
        "print(list1.pop())"
      ],
      "execution_count": 9,
      "outputs": [
        {
          "output_type": "stream",
          "text": [
            "['10', '20.30', 'Sayama', '[78,91,116]']\n",
            "None\n",
            "None\n",
            "None\n",
            "None\n",
            "2020\n"
          ],
          "name": "stdout"
        }
      ]
    },
    {
      "cell_type": "markdown",
      "metadata": {
        "id": "q1EvrTz5z5xI",
        "colab_type": "text"
      },
      "source": [
        "**Tuples**"
      ]
    },
    {
      "cell_type": "code",
      "metadata": {
        "id": "anDgS7bu0KYc",
        "colab_type": "code",
        "colab": {
          "base_uri": "https://localhost:8080/",
          "height": 51
        },
        "outputId": "3c9a471d-ef7c-419c-fb41-ce16cee8cc61"
      },
      "source": [
        "tuple1 = (\"apple\", \"banana\", \"cherry\", \"orange\", \"kiwi\", \"melon\", \"mango\")\n",
        "print(tuple1)\n",
        "print(tuple1[2:5])"
      ],
      "execution_count": 6,
      "outputs": [
        {
          "output_type": "stream",
          "text": [
            "('apple', 'banana', 'cherry', 'orange', 'kiwi', 'melon', 'mango')\n",
            "('cherry', 'orange', 'kiwi')\n"
          ],
          "name": "stdout"
        }
      ]
    },
    {
      "cell_type": "markdown",
      "metadata": {
        "id": "AAdpx-cy1QGh",
        "colab_type": "text"
      },
      "source": [
        "**Tuple in-built Functions**\n",
        "\n",
        "\n",
        "1. count()\tReturns the number of times a specified value occurs in a tuple\n",
        "2. index()\tSearches the tuple for a specified value and returns the position of where it was found\n",
        "\n"
      ]
    },
    {
      "cell_type": "code",
      "metadata": {
        "id": "7hFFcsvO1wEx",
        "colab_type": "code",
        "colab": {
          "base_uri": "https://localhost:8080/",
          "height": 51
        },
        "outputId": "fb855409-6712-484d-f192-803a721d239d"
      },
      "source": [
        "tuple1 = (\"apple\", \"banana\", \"cherry\", \"orange\", \"kiwi\", \"melon\", \"mango\")\n",
        "print(tuple1)\n",
        "\n",
        "tuple1.count(\"kiwi\")\n"
      ],
      "execution_count": 15,
      "outputs": [
        {
          "output_type": "stream",
          "text": [
            "('apple', 'banana', 'cherry', 'orange', 'kiwi', 'melon', 'mango')\n"
          ],
          "name": "stdout"
        },
        {
          "output_type": "execute_result",
          "data": {
            "text/plain": [
              "1"
            ]
          },
          "metadata": {
            "tags": []
          },
          "execution_count": 15
        }
      ]
    },
    {
      "cell_type": "markdown",
      "metadata": {
        "id": "Vo_PLDm63Pkv",
        "colab_type": "text"
      },
      "source": [
        "**Sets**"
      ]
    },
    {
      "cell_type": "code",
      "metadata": {
        "id": "1et_caWe3Ul8",
        "colab_type": "code",
        "colab": {
          "base_uri": "https://localhost:8080/",
          "height": 51
        },
        "outputId": "33542ead-9f77-4d54-9f6d-40c16acacd16"
      },
      "source": [
        "set1 = {\"a\", \"b\" , \"c\"}\n",
        "set2 = {1, 2, 3}\n",
        "print(set1)\n",
        "print(set2)"
      ],
      "execution_count": 16,
      "outputs": [
        {
          "output_type": "stream",
          "text": [
            "{'c', 'b', 'a'}\n",
            "{1, 2, 3}\n"
          ],
          "name": "stdout"
        }
      ]
    },
    {
      "cell_type": "markdown",
      "metadata": {
        "id": "gV6-Oi438WhP",
        "colab_type": "text"
      },
      "source": [
        "**Sets in-built Function**\n",
        "\n",
        "1.   add()\tAdds an element to the set\n",
        "2. difference()\tReturns a set containing the difference between two or more sets\n",
        "3. discard()\tRemove the specified item\n",
        "4. intersection()\tReturns a set, that is the intersection of two other sets\n",
        "5. pop()\tRemoves an element from the set\n",
        "6. remove()\tRemoves the specified element\n",
        "7. symmetric_difference()\tReturns a set with the symmetric differences of two sets\n",
        "8. union()\tReturn a set containing the union of sets\n",
        "9. update()\tUpdate the set with the union of this set and others\n",
        "\n"
      ]
    },
    {
      "cell_type": "code",
      "metadata": {
        "id": "NoHW2igJAzXQ",
        "colab_type": "code",
        "colab": {
          "base_uri": "https://localhost:8080/",
          "height": 34
        },
        "outputId": "6b24479e-c17b-4e12-e8d7-224de3f30cd4"
      },
      "source": [
        "set1 = { 1, 2, 3, 4, 5}\n",
        "set2=  { 6, 7, 8, 9, 1}\n",
        "\n",
        "set1.add(10)\n",
        "set1.union(set2)\n",
        "set2.pop()\n",
        "set1.difference(set2)\n",
        "set2.symmetric_difference(set1)"
      ],
      "execution_count": 17,
      "outputs": [
        {
          "output_type": "execute_result",
          "data": {
            "text/plain": [
              "{1, 2, 3, 4, 5, 6, 7, 8, 9, 10}"
            ]
          },
          "metadata": {
            "tags": []
          },
          "execution_count": 17
        }
      ]
    },
    {
      "cell_type": "markdown",
      "metadata": {
        "id": "LkcdMgtZEX0v",
        "colab_type": "text"
      },
      "source": [
        "**Dictionaries**"
      ]
    },
    {
      "cell_type": "code",
      "metadata": {
        "id": "j_X6J3mtCq8U",
        "colab_type": "code",
        "colab": {
          "base_uri": "https://localhost:8080/",
          "height": 34
        },
        "outputId": "9bfd2556-f940-4df1-a3a1-4615359b9188"
      },
      "source": [
        "mydict = { \"vehicle type\":\"Car\",\n",
        "  \"brand\":\"Ford\",\n",
        "  \"model\":\"Mustang\",\n",
        "  \"year\":1964\n",
        "}\n",
        "print(mydict)"
      ],
      "execution_count": 21,
      "outputs": [
        {
          "output_type": "stream",
          "text": [
            "{'vehicle type': 'Car', 'brand': 'Ford', 'model': 'Mustang', 'year': 1964}\n"
          ],
          "name": "stdout"
        }
      ]
    },
    {
      "cell_type": "markdown",
      "metadata": {
        "id": "rTGppH7aFc8P",
        "colab_type": "text"
      },
      "source": [
        "**Dictionary in-built Function**\n",
        "\n",
        "\n",
        "1. fromkeys()\tReturns a dictionary with the specified keys and value\n",
        "2. get()\tReturns the value of the specified key\n",
        "3. items()\tReturns a list containing a tuple for each key value pair\n",
        "4. keys()\tReturns a list containing the dictionary's keys\n",
        "5. pop()\tRemoves the element with the specified key\n",
        "6. update()\tUpdates the dictionary with the specified key-value pairs\n",
        "7. values()\tReturns a list of all the values in the dictionary\n",
        "\n"
      ]
    },
    {
      "cell_type": "code",
      "metadata": {
        "id": "HU4n9Q0EGax7",
        "colab_type": "code",
        "colab": {
          "base_uri": "https://localhost:8080/",
          "height": 93
        },
        "outputId": "6265e9f3-dd03-4919-aa6e-0462ab220706"
      },
      "source": [
        "mydict = { \"vehicle type\":\"Car\",\n",
        "  \"brand\":\"Ford\",\n",
        "  \"model\":\"Mustang\",\n",
        "  \"year\":1964\n",
        "}\n",
        "print(mydict)\n",
        "\n",
        "mydict[\"color\"]=\"Red\"\n",
        "print(mydict.keys())\n",
        "print(mydict.values())"
      ],
      "execution_count": 23,
      "outputs": [
        {
          "output_type": "stream",
          "text": [
            "{'vehicle type': 'Car', 'brand': 'Ford', 'model': 'Mustang', 'year': 1964}\n",
            "dict_keys(['vehicle type', 'brand', 'model', 'year', 'color'])\n",
            "dict_values(['Car', 'Ford', 'Mustang', 1964, 'Red'])\n"
          ],
          "name": "stdout"
        }
      ]
    },
    {
      "cell_type": "markdown",
      "metadata": {
        "id": "mvuLhvrOIKsM",
        "colab_type": "text"
      },
      "source": [
        "**Strings**"
      ]
    },
    {
      "cell_type": "code",
      "metadata": {
        "id": "e-1DlX0vIYAC",
        "colab_type": "code",
        "colab": {
          "base_uri": "https://localhost:8080/",
          "height": 34
        },
        "outputId": "d4c50dd6-da6b-4e42-e9a4-3019f918edbf"
      },
      "source": [
        "a=input(\"Enter a String=\")"
      ],
      "execution_count": 24,
      "outputs": [
        {
          "output_type": "stream",
          "text": [
            "Enter a String=Sayama Pathan\n"
          ],
          "name": "stdout"
        }
      ]
    },
    {
      "cell_type": "markdown",
      "metadata": {
        "id": "IpJBdh-lIq5Z",
        "colab_type": "text"
      },
      "source": [
        "**Strings in-built Functions**\n",
        "\n",
        "1. lower() Converts a string into lower case\n",
        "2. upper() Converts a string into upper case\n",
        "3. split() Splits the string at the specified separator, and returns a list\n"
      ]
    },
    {
      "cell_type": "code",
      "metadata": {
        "id": "OpKHxrkeLze8",
        "colab_type": "code",
        "colab": {
          "base_uri": "https://localhost:8080/",
          "height": 69
        },
        "outputId": "205de5e1-eee6-411b-d545-d1d74d43338b"
      },
      "source": [
        "a=\"Sayama Pathan\"\n",
        "print(a.upper())\n",
        "print(a.lower())\n",
        "print(a.split(','))"
      ],
      "execution_count": 27,
      "outputs": [
        {
          "output_type": "stream",
          "text": [
            "SAYAMA PATHAN\n",
            "sayama pathan\n",
            "['Sayama Pathan']\n"
          ],
          "name": "stdout"
        }
      ]
    }
  ]
}